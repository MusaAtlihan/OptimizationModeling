{
 "cells": [
  {
   "cell_type": "markdown",
   "metadata": {},
   "source": [
    "# Binary Knapsack Problem"
   ]
  },
  {
   "cell_type": "markdown",
   "metadata": {},
   "source": [
    "A knapsack of limited capacity and a set of items are given. Each item has a weight and a profit. The goal is to select a subset of items such that the total profit is maximized and the sum of the weights does not exceed the capacity of the knapsack."
   ]
  },
  {
   "cell_type": "markdown",
   "metadata": {},
   "source": [
    "## Data\n",
    "\n",
    "*I*: Set of items.\n",
    "\n",
    "*q*: Capacity of knapsack.\n",
    "\n",
    "*w_i*: weight of item *i ∈ I*.\n",
    "\n",
    "*p_i*: Profit of item *i ∈ I*.\n",
    "\n",
    "## Variables\n",
    "\n",
    "*x_i*: is 1 if item is in the knapsack, 0 otherwise.\n",
    "\n",
    "## Objective Function\n",
    "\n",
    "Maximize the profit. z^* = max ∑_(i∈I) p_i * x_i\n",
    "\n",
    "## Constraints\n",
    "\n",
    "Do not exceed the knapsack capacity ∑_(i∈I) w_i * x_i <= q"
   ]
  },
  {
   "cell_type": "markdown",
   "metadata": {},
   "source": [
    "## Model implementation"
   ]
  },
  {
   "cell_type": "code",
   "execution_count": 1,
   "metadata": {},
   "outputs": [],
   "source": [
    "import pyomo.environ as pyo\n",
    "\n",
    "model = pyo.AbstractModel()"
   ]
  },
  {
   "cell_type": "markdown",
   "metadata": {},
   "source": [
    "### Set of Items"
   ]
  },
  {
   "cell_type": "code",
   "execution_count": 2,
   "metadata": {},
   "outputs": [],
   "source": [
    "# initialization with a list (the initialization does not occur until we call method create_instance()).\n",
    "model.I = pyo.Set(initialize=list(range(1,11)))"
   ]
  },
  {
   "cell_type": "markdown",
   "metadata": {},
   "source": [
    "### Parameters\n",
    "\n",
    "Parameters can be initialized at least in three ways:\n",
    "\n",
    "- passing a dictionary (or a single value for non-indexed parameters)\n",
    "- passing a function returning a dictionary (or a single value for non-indexed parameters)\n",
    "- passing a function taking as argument an index and returning a value"
   ]
  },
  {
   "cell_type": "code",
   "execution_count": 3,
   "metadata": {},
   "outputs": [],
   "source": [
    "import random\n",
    "random.seed(42)\n",
    "\n",
    "def get_profits(model):\n",
    "    return {i: random.randrange(10, 50) for i in model.I}\n",
    "\n",
    "def get_weights(model, i):\n",
    "    return random.randrange(1, 10)\n",
    "\n",
    "model.q = pyo.Param(initialize=20, mutable=True)\n",
    "model.p = pyo.Param(model.I, initialize=get_profits)\n",
    "model.w = pyo.Param(model.I, rule=get_weights)"
   ]
  },
  {
   "cell_type": "markdown",
   "metadata": {},
   "source": [
    "### Variables"
   ]
  },
  {
   "cell_type": "code",
   "execution_count": 4,
   "metadata": {},
   "outputs": [],
   "source": [
    "model.x = pyo.Var(model.I, within=pyo.Binary)"
   ]
  },
  {
   "cell_type": "markdown",
   "metadata": {},
   "source": [
    "### Objective Function"
   ]
  },
  {
   "cell_type": "code",
   "execution_count": 5,
   "metadata": {},
   "outputs": [],
   "source": [
    "def obj_function(model):\n",
    "    return sum(model.p[i] * model.x[i] for i in model.I)\n",
    "\n",
    "model.z = pyo.Objective(rule=obj_function, sense=pyo.maximize)"
   ]
  },
  {
   "cell_type": "markdown",
   "metadata": {},
   "source": [
    "### Constraints"
   ]
  },
  {
   "cell_type": "code",
   "execution_count": 6,
   "metadata": {},
   "outputs": [],
   "source": [
    "def cons_capacity(model):\n",
    "    return sum(model.w[i] * model.x[i] for i in model.I) <= model.q\n",
    "\n",
    "model.cons_capacity = pyo.Constraint(rule=cons_capacity)"
   ]
  },
  {
   "cell_type": "code",
   "execution_count": 7,
   "metadata": {},
   "outputs": [
    {
     "name": "stdout",
     "output_type": "stream",
     "text": [
      "1 Set Declarations\n",
      "    I : Size=0, Index=None, Ordered=Insertion\n",
      "        Not constructed\n",
      "\n",
      "3 Param Declarations\n",
      "    p : Size=0, Index=I, Domain=Any, Default=None, Mutable=False\n",
      "        Not constructed\n",
      "    q : Size=0, Index=None, Domain=Any, Default=None, Mutable=True\n",
      "        Not constructed\n",
      "    w : Size=0, Index=I, Domain=Any, Default=None, Mutable=False\n",
      "        Not constructed\n",
      "\n",
      "1 Var Declarations\n",
      "    x : Size=0, Index=I\n",
      "        Not constructed\n",
      "\n",
      "1 Objective Declarations\n",
      "    z : Size=0, Index=None, Active=True\n",
      "        Not constructed\n",
      "\n",
      "1 Constraint Declarations\n",
      "    cons_capacity : Size=0, Index=None, Active=True\n",
      "        Not constructed\n",
      "\n",
      "7 Declarations: I q p w x z cons_capacity\n"
     ]
    }
   ],
   "source": [
    "model.pprint()"
   ]
  },
  {
   "cell_type": "markdown",
   "metadata": {},
   "source": [
    "### Solving the Model\n",
    "\n",
    "First, the elements of the model must be initialized by invoking method create_instance()"
   ]
  },
  {
   "cell_type": "code",
   "execution_count": 8,
   "metadata": {},
   "outputs": [
    {
     "name": "stdout",
     "output_type": "stream",
     "text": [
      "Model unknown\n",
      "\n",
      "  Variables:\n",
      "    x : Size=10, Index=I\n",
      "        Key : Lower : Value : Upper : Fixed : Stale : Domain\n",
      "          1 :     0 :  None :     1 : False :  True : Binary\n",
      "          2 :     0 :  None :     1 : False :  True : Binary\n",
      "          3 :     0 :  None :     1 : False :  True : Binary\n",
      "          4 :     0 :  None :     1 : False :  True : Binary\n",
      "          5 :     0 :  None :     1 : False :  True : Binary\n",
      "          6 :     0 :  None :     1 : False :  True : Binary\n",
      "          7 :     0 :  None :     1 : False :  True : Binary\n",
      "          8 :     0 :  None :     1 : False :  True : Binary\n",
      "          9 :     0 :  None :     1 : False :  True : Binary\n",
      "         10 :     0 :  None :     1 : False :  True : Binary\n",
      "\n",
      "  Objectives:\n",
      "    z : Size=1, Index=None, Active=True\n",
      "ERROR: evaluating object as numeric value: x[1]\n",
      "        (object: <class 'pyomo.core.base.var._GeneralVarData'>)\n",
      "    No value for uninitialized NumericValue object x[1]\n",
      "ERROR: evaluating object as numeric value: z\n",
      "        (object: <class 'pyomo.core.base.objective.SimpleObjective'>)\n",
      "    No value for uninitialized NumericValue object x[1]\n",
      "        Key : Active : Value\n",
      "        None :   None :  None\n",
      "\n",
      "  Constraints:\n",
      "    cons_capacity : Size=1\n",
      "ERROR: evaluating object as numeric value: x[1]\n",
      "        (object: <class 'pyomo.core.base.var._GeneralVarData'>)\n",
      "    No value for uninitialized NumericValue object x[1]\n",
      "        Key : Lower : Body : Upper\n",
      "        None :  None : None :  None\n"
     ]
    }
   ],
   "source": [
    "instance = model.create_instance()\n",
    "instance.display()"
   ]
  },
  {
   "cell_type": "code",
   "execution_count": 9,
   "metadata": {},
   "outputs": [
    {
     "name": "stdout",
     "output_type": "stream",
     "text": [
      "\n",
      "Problem: \n",
      "- Name: unknown\n",
      "  Lower bound: 196.0\n",
      "  Upper bound: 196.0\n",
      "  Number of objectives: 1\n",
      "  Number of constraints: 2\n",
      "  Number of variables: 11\n",
      "  Number of nonzeros: 11\n",
      "  Sense: maximize\n",
      "Solver: \n",
      "- Status: ok\n",
      "  Termination condition: optimal\n",
      "  Statistics: \n",
      "    Branch and bound: \n",
      "      Number of bounded subproblems: 1\n",
      "      Number of created subproblems: 1\n",
      "  Error rc: 0\n",
      "  Time: 0.022960662841796875\n",
      "Solution: \n",
      "- number of solutions: 0\n",
      "  number of solutions displayed: 0\n",
      "\n"
     ]
    }
   ],
   "source": [
    "solver = pyo.SolverFactory('glpk')\n",
    "results = solver.solve(instance)\n",
    "print(results)"
   ]
  },
  {
   "cell_type": "code",
   "execution_count": 10,
   "metadata": {},
   "outputs": [
    {
     "name": "stdout",
     "output_type": "stream",
     "text": [
      "Model unknown\n",
      "\n",
      "  Variables:\n",
      "    x : Size=10, Index=I\n",
      "        Key : Lower : Value : Upper : Fixed : Stale : Domain\n",
      "          1 :     0 :   0.0 :     1 : False : False : Binary\n",
      "          2 :     0 :   1.0 :     1 : False : False : Binary\n",
      "          3 :     0 :   1.0 :     1 : False : False : Binary\n",
      "          4 :     0 :   1.0 :     1 : False : False : Binary\n",
      "          5 :     0 :   1.0 :     1 : False : False : Binary\n",
      "          6 :     0 :   1.0 :     1 : False : False : Binary\n",
      "          7 :     0 :   0.0 :     1 : False : False : Binary\n",
      "          8 :     0 :   1.0 :     1 : False : False : Binary\n",
      "          9 :     0 :   0.0 :     1 : False : False : Binary\n",
      "         10 :     0 :   1.0 :     1 : False : False : Binary\n",
      "\n",
      "  Objectives:\n",
      "    z : Size=1, Index=None, Active=True\n",
      "        Key  : Active : Value\n",
      "        None :   True : 196.0\n",
      "\n",
      "  Constraints:\n",
      "    cons_capacity : Size=1\n",
      "        Key  : Lower : Body : Upper\n",
      "        None :  None : 17.0 :    20\n"
     ]
    }
   ],
   "source": [
    "instance.display()"
   ]
  },
  {
   "cell_type": "code",
   "execution_count": 11,
   "metadata": {},
   "outputs": [
    {
     "name": "stdout",
     "output_type": "stream",
     "text": [
      "Knapsack of value 196.0\n",
      "x[1] = 0\n",
      "Selected items: 2, 3, 4, 5, 6, 8, 10\n"
     ]
    }
   ],
   "source": [
    "print(\"Knapsack of value {:.1f}\".format(pyo.value(instance.z)))\n",
    "print(\"x[1] = {:.0f}\".format(instance.x[1].value))\n",
    "print(\"Selected items: \" + \", \".join(str(i) for i, v in instance.x.iteritems() if v.value > 0)  )"
   ]
  },
  {
   "cell_type": "markdown",
   "metadata": {},
   "source": [
    "## Parametric analysis"
   ]
  },
  {
   "cell_type": "code",
   "execution_count": 12,
   "metadata": {},
   "outputs": [
    {
     "data": {
      "image/png": "[encoded data removed]",
      "text/plain": [
       "<Figure size 432x288 with 1 Axes>"
      ]
     },
     "metadata": {
      "needs_background": "light"
     },
     "output_type": "display_data"
    }
   ],
   "source": [
    "qs = list(range(20, 50, 5))\n",
    "\n",
    "def parametric_analysis(q):\n",
    "    instance.q.set_value(q)\n",
    "    solver.solve(instance)\n",
    "    return pyo.value(instance.z)\n",
    "\n",
    "import matplotlib.pyplot as plt\n",
    "%matplotlib inline\n",
    "\n",
    "values = list(map(parametric_analysis, qs))\n",
    "plt.plot(qs, values)\n",
    "plt.ylabel('knapsack value')\n",
    "plt.xlabel('knapsack capacity')\n",
    "plt.show()"
   ]
  },
  {
   "cell_type": "code",
   "execution_count": null,
   "metadata": {},
   "outputs": [],
   "source": []
  }
 ],
 "metadata": {
  "kernelspec": {
   "display_name": "Python 3",
   "language": "python",
   "name": "python3"
  },
  "language_info": {
   "codemirror_mode": {
    "name": "ipython",
    "version": 3
   },
   "file_extension": ".py",
   "mimetype": "text/x-python",
   "name": "python",
   "nbconvert_exporter": "python",
   "pygments_lexer": "ipython3",
   "version": "3.6.10"
  }
 },
 "nbformat": 4,
 "nbformat_minor": 4
}
